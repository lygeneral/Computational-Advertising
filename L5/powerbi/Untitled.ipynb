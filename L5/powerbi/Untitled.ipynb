{
 "cells": [
  {
   "cell_type": "code",
   "execution_count": 1,
   "metadata": {},
   "outputs": [
    {
     "name": "stdout",
     "output_type": "stream",
     "text": [
      "更新时间：2020-10-19 17:31:35\n",
      "确诊人数为：91529人\n",
      "死亡人数为：4746人\n",
      "疑似人数为：3人\n",
      "治愈人数为：86325人\n",
      "\n"
     ]
    }
   ],
   "source": [
    "import requests\n",
    "import json\n",
    "import pandas as pd\n",
    "\n",
    "def get_html_text(url):\n",
    "    try:\n",
    "        res = requests.get(url,timeout = 30)\n",
    "        res.raise_for_status()\n",
    "        res.encoding = res.apparent_encoding\n",
    "        return res.text\n",
    "    except:\n",
    "        return \"Error\"\n",
    "\n",
    "def parse_data():\n",
    "    result = []\n",
    "    country_len = len(areaTree_json)\n",
    "    for i in range(0, country_len):\n",
    "        #如果为中国则说明具有省份信息\n",
    "        if(areaTree_json[i][\"name\"]==\"中国\"):\n",
    "            #获取省份长度\n",
    "            province_len = len(areaTree_json[i][\"children\"])  \n",
    "            for j in range(0,province_len):\n",
    "                #获取地区长度\n",
    "                area_len=len(areaTree_json[i][\"children\"][j][\"children\"])\n",
    "                for n in range(0,area_len):\n",
    "                    #获取地区的总体疫情情况\n",
    "                    total=areaTree_json[i][\"children\"][j][\"children\"][n][\"total\"]\n",
    "                    country = '中国'\n",
    "                    province = areaTree_json[i][\"children\"][j][\"name\"]\n",
    "                    area = areaTree_json[i][\"children\"][j][\"children\"][n][\"name\"]\n",
    "                    confirm = total[\"confirm\"]\n",
    "                    dead = total[\"dead\"]\n",
    "                    heal = total[\"heal\"]\n",
    "                    suspect = total[\"suspect\"]\n",
    "                    temp = {'city':area, 'province':province, 'country':country, \\\n",
    "                        'confirm':confirm,'heal':heal,'dead':dead, 'suspect':suspect, 'update_time':update_time} \n",
    "                    result.append(temp)\n",
    "    return result\n",
    "\n",
    "page_url = \"https://view.inews.qq.com/g2/getOnsInfo?name=disease_h5\"\n",
    "#获取Json\n",
    "text = get_html_text(page_url)\n",
    "#将json数据中的data字段的数据提取处理\n",
    "json_text = json.loads(text)[\"data\"]\n",
    "#将提取出的字符串转换为json数据\n",
    "json_text = json.loads(json_text)\n",
    "#更新时间\n",
    "update_time = json_text[\"lastUpdateTime\"]\n",
    "#每日汇总信息\n",
    "chinaTotal_json = json_text[\"chinaTotal\"]\n",
    "confirmCount = str(chinaTotal_json[\"confirm\"])\n",
    "suspectCount = str(chinaTotal_json[\"suspect\"])\n",
    "deadCount = str(chinaTotal_json[\"dead\"])\n",
    "heal = str(chinaTotal_json[\"heal\"])\n",
    "\n",
    "print(\"更新时间：\" + update_time + \"\\n\" + \"确诊人数为：\" + confirmCount + \"人\\n\" + \"死亡人数为：\" + deadCount + \"人\\n\" + \\\n",
    "    \"疑似人数为：\" + suspectCount + \"人\\n\" + \"治愈人数为：\" + heal + \"人\\n\" )\n",
    "\n",
    "#包含国家、省份、地区的所有信息，且国家为首索引\n",
    "areaTree_json=json_text[\"areaTree\"]\n",
    "#获取信息并获取长度\n",
    "result = parse_data()\n",
    "# 写入CSV\n",
    "data = pd.DataFrame(result)\n",
    "data.to_csv('city.csv')\n"
   ]
  },
  {
   "cell_type": "code",
   "execution_count": null,
   "metadata": {},
   "outputs": [],
   "source": []
  }
 ],
 "metadata": {
  "kernelspec": {
   "display_name": "Python 3",
   "language": "python",
   "name": "python3"
  },
  "language_info": {
   "codemirror_mode": {
    "name": "ipython",
    "version": 3
   },
   "file_extension": ".py",
   "mimetype": "text/x-python",
   "name": "python",
   "nbconvert_exporter": "python",
   "pygments_lexer": "ipython3",
   "version": "3.7.3"
  }
 },
 "nbformat": 4,
 "nbformat_minor": 2
}
